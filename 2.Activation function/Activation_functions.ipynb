{
  "nbformat": 4,
  "nbformat_minor": 0,
  "metadata": {
    "colab": {
      "name": "Activation functions.ipynb",
      "provenance": [],
      "authorship_tag": "ABX9TyNl1xSOV6ECU+7w68S8VTHD",
      "include_colab_link": true
    },
    "kernelspec": {
      "name": "python3",
      "display_name": "Python 3"
    },
    "language_info": {
      "name": "python"
    }
  },
  "cells": [
    {
      "cell_type": "markdown",
      "metadata": {
        "id": "view-in-github",
        "colab_type": "text"
      },
      "source": [
        "<a href=\"https://colab.research.google.com/github/AlbusDracoSam/Deep-Learning/blob/main/2.Activation%20function/Activation_functions.ipynb\" target=\"_parent\"><img src=\"https://colab.research.google.com/assets/colab-badge.svg\" alt=\"Open In Colab\"/></a>"
      ]
    },
    {
      "cell_type": "code",
      "metadata": {
        "id": "G432xx9pQE6g"
      },
      "source": [
        "import math"
      ],
      "execution_count": 1,
      "outputs": []
    },
    {
      "cell_type": "markdown",
      "metadata": {
        "id": "6qtc1O2nQoTb"
      },
      "source": [
        "# Sigmoid\n",
        "Keeps the value between 0 to 1"
      ]
    },
    {
      "cell_type": "code",
      "metadata": {
        "id": "udTUnXZ5QaK9"
      },
      "source": [
        "def sigmoid(x):\n",
        "    return (1 / (1 + math.exp(-x)))"
      ],
      "execution_count": 2,
      "outputs": []
    },
    {
      "cell_type": "code",
      "metadata": {
        "colab": {
          "base_uri": "https://localhost:8080/"
        },
        "id": "txlELmoRQkW-",
        "outputId": "8c560c63-c8b0-41bf-a975-54dac1f38af2"
      },
      "source": [
        "sigmoid(100)"
      ],
      "execution_count": 3,
      "outputs": [
        {
          "output_type": "execute_result",
          "data": {
            "text/plain": [
              "1.0"
            ]
          },
          "metadata": {},
          "execution_count": 3
        }
      ]
    },
    {
      "cell_type": "code",
      "metadata": {
        "colab": {
          "base_uri": "https://localhost:8080/"
        },
        "id": "4brWuflkQl87",
        "outputId": "b10df6a8-7b93-4cef-80b9-7eb8ad3e8ab8"
      },
      "source": [
        "sigmoid(-500)"
      ],
      "execution_count": 4,
      "outputs": [
        {
          "output_type": "execute_result",
          "data": {
            "text/plain": [
              "7.124576406741285e-218"
            ]
          },
          "metadata": {},
          "execution_count": 4
        }
      ]
    },
    {
      "cell_type": "markdown",
      "metadata": {
        "id": "rBVV4GBMQ8NR"
      },
      "source": [
        "# tanh\n",
        "Keeps the value between -1 to 1"
      ]
    },
    {
      "cell_type": "code",
      "metadata": {
        "id": "5fd6PFpsRGt5"
      },
      "source": [
        "def tanh(x):\n",
        "    return ((math.exp(x) - math.exp(-x))/(math.exp(x) + math.exp(-x)))"
      ],
      "execution_count": 6,
      "outputs": []
    },
    {
      "cell_type": "code",
      "metadata": {
        "colab": {
          "base_uri": "https://localhost:8080/"
        },
        "id": "52VfgV_tRUdm",
        "outputId": "2f2e1e55-eb0e-4e7c-ce35-27dfc130d7ae"
      },
      "source": [
        "tanh(-50)"
      ],
      "execution_count": 10,
      "outputs": [
        {
          "output_type": "execute_result",
          "data": {
            "text/plain": [
              "-1.0"
            ]
          },
          "metadata": {},
          "execution_count": 10
        }
      ]
    },
    {
      "cell_type": "code",
      "metadata": {
        "colab": {
          "base_uri": "https://localhost:8080/"
        },
        "id": "WWsXEot0R5KX",
        "outputId": "d3d164b4-43b6-4dee-85b2-bf6a03ab6650"
      },
      "source": [
        "tanh(50)"
      ],
      "execution_count": 9,
      "outputs": [
        {
          "output_type": "execute_result",
          "data": {
            "text/plain": [
              "1.0"
            ]
          },
          "metadata": {},
          "execution_count": 9
        }
      ]
    },
    {
      "cell_type": "markdown",
      "metadata": {
        "id": "5fN6mUvxSdcv"
      },
      "source": [
        "# relu\n",
        "Takes the max value of 0 and the input"
      ]
    },
    {
      "cell_type": "code",
      "metadata": {
        "id": "wp1-WkLyS-fh"
      },
      "source": [
        "def relu(x):\n",
        "    return max(0,x)"
      ],
      "execution_count": 12,
      "outputs": []
    },
    {
      "cell_type": "code",
      "metadata": {
        "colab": {
          "base_uri": "https://localhost:8080/"
        },
        "id": "uaDfmCCzTBd3",
        "outputId": "e887052a-729c-4f95-a556-fc34a87d537e"
      },
      "source": [
        "relu(-1)"
      ],
      "execution_count": 13,
      "outputs": [
        {
          "output_type": "execute_result",
          "data": {
            "text/plain": [
              "0"
            ]
          },
          "metadata": {},
          "execution_count": 13
        }
      ]
    },
    {
      "cell_type": "code",
      "metadata": {
        "colab": {
          "base_uri": "https://localhost:8080/"
        },
        "id": "YkkMqozsTIFJ",
        "outputId": "37bc7dce-9d1a-4639-e83e-4d92fb2c881f"
      },
      "source": [
        "relu(6)"
      ],
      "execution_count": 14,
      "outputs": [
        {
          "output_type": "execute_result",
          "data": {
            "text/plain": [
              "6"
            ]
          },
          "metadata": {},
          "execution_count": 14
        }
      ]
    },
    {
      "cell_type": "markdown",
      "metadata": {
        "id": "RLtEXWJnTYGA"
      },
      "source": [
        "# Leaky relu\n"
      ]
    },
    {
      "cell_type": "code",
      "metadata": {
        "id": "sBMB72q1UigO"
      },
      "source": [
        "def leaky_relu(x):\n",
        "    return max(0.1 * x, x)"
      ],
      "execution_count": 15,
      "outputs": []
    },
    {
      "cell_type": "code",
      "metadata": {
        "colab": {
          "base_uri": "https://localhost:8080/"
        },
        "id": "jFAMfhZyUtoV",
        "outputId": "5a17f944-32d4-48ac-aa85-b8dcf0067485"
      },
      "source": [
        "leaky_relu(-100)"
      ],
      "execution_count": 16,
      "outputs": [
        {
          "output_type": "execute_result",
          "data": {
            "text/plain": [
              "-10.0"
            ]
          },
          "metadata": {},
          "execution_count": 16
        }
      ]
    },
    {
      "cell_type": "code",
      "metadata": {
        "colab": {
          "base_uri": "https://localhost:8080/"
        },
        "id": "Qlz_S7soU6ya",
        "outputId": "f2cfe2a7-4977-4ff3-8765-1bf35a69fb58"
      },
      "source": [
        "leaky_relu(10)"
      ],
      "execution_count": 18,
      "outputs": [
        {
          "output_type": "execute_result",
          "data": {
            "text/plain": [
              "10"
            ]
          },
          "metadata": {},
          "execution_count": 18
        }
      ]
    }
  ]
}
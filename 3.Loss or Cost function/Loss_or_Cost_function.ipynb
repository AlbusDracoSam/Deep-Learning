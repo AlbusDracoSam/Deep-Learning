{
  "nbformat": 4,
  "nbformat_minor": 0,
  "metadata": {
    "colab": {
      "name": "Loss or Cost function.ipynb",
      "provenance": [],
      "authorship_tag": "ABX9TyMFkmzBcIhiF23sf+5+fa4P",
      "include_colab_link": true
    },
    "kernelspec": {
      "name": "python3",
      "display_name": "Python 3"
    },
    "language_info": {
      "name": "python"
    }
  },
  "cells": [
    {
      "cell_type": "markdown",
      "metadata": {
        "id": "view-in-github",
        "colab_type": "text"
      },
      "source": [
        "<a href=\"https://colab.research.google.com/github/AlbusDracoSam/Deep-Learning/blob/main/3.Loss%20or%20Cost%20function/Loss_or_Cost_function.ipynb\" target=\"_parent\"><img src=\"https://colab.research.google.com/assets/colab-badge.svg\" alt=\"Open In Colab\"/></a>"
      ]
    },
    {
      "cell_type": "code",
      "metadata": {
        "id": "FDcbt8UtN1Po"
      },
      "source": [
        "import numpy as np"
      ],
      "execution_count": 6,
      "outputs": []
    },
    {
      "cell_type": "code",
      "metadata": {
        "id": "N1cDCDRuOL4H"
      },
      "source": [
        "y_predicted = np.array([1,1,0,0,1])\n",
        "y_true = np.array([0.30,0.7,1,0,0.5])"
      ],
      "execution_count": 7,
      "outputs": []
    },
    {
      "cell_type": "markdown",
      "metadata": {
        "id": "iCPhYv1TQQC1"
      },
      "source": [
        "# Mean Absolute Error"
      ]
    },
    {
      "cell_type": "code",
      "metadata": {
        "id": "-pIqwjMlOaY8"
      },
      "source": [
        "def mae(y_true, y_predicted):\n",
        "    total_error = 0\n",
        "    for yt, yp in zip(y_true, y_predicted):\n",
        "        total_error += abs(yt-yp)\n",
        "    mae = total_error / len(y_true)\n",
        "    print(\"Mean Absolute Error \", mae)"
      ],
      "execution_count": 20,
      "outputs": []
    },
    {
      "cell_type": "code",
      "metadata": {
        "colab": {
          "base_uri": "https://localhost:8080/"
        },
        "id": "fHhU3pfaQFDd",
        "outputId": "3d294df4-a802-4a11-ce7e-803cf7497b83"
      },
      "source": [
        "np.mean(np.abs(y_true - y_predicted))"
      ],
      "execution_count": 24,
      "outputs": [
        {
          "output_type": "execute_result",
          "data": {
            "text/plain": [
              "0.5"
            ]
          },
          "metadata": {},
          "execution_count": 24
        }
      ]
    },
    {
      "cell_type": "code",
      "metadata": {
        "colab": {
          "base_uri": "https://localhost:8080/"
        },
        "id": "5CyapWamOtSe",
        "outputId": "612b8368-de9e-4518-f83b-843a137d8902"
      },
      "source": [
        "mae(y_true, y_predicted )"
      ],
      "execution_count": 21,
      "outputs": [
        {
          "output_type": "stream",
          "text": [
            "Mean Absolute Error  0.5\n"
          ],
          "name": "stdout"
        }
      ]
    },
    {
      "cell_type": "markdown",
      "metadata": {
        "id": "UFhFvwOiQUGh"
      },
      "source": [
        "# Log loss or Binary Cross Entropy\n",
        "Reason for having epsilon is log of 0 is infinity so when we have 0 it will take the max of epsilon and 0"
      ]
    },
    {
      "cell_type": "code",
      "metadata": {
        "id": "X4hBEb7FP3rp"
      },
      "source": [
        "epsilon = 1e-15"
      ],
      "execution_count": 25,
      "outputs": []
    },
    {
      "cell_type": "code",
      "metadata": {
        "colab": {
          "base_uri": "https://localhost:8080/"
        },
        "id": "t2cptys6Rvy3",
        "outputId": "124b8dce-b8a9-4eb7-ed14-a06b7e4f49d7"
      },
      "source": [
        "y_predicted_new = [max(i,epsilon) for i in y_predicted]\n",
        "y_predicted_new"
      ],
      "execution_count": 26,
      "outputs": [
        {
          "output_type": "execute_result",
          "data": {
            "text/plain": [
              "[1, 1, 1e-15, 1e-15, 1]"
            ]
          },
          "metadata": {},
          "execution_count": 26
        }
      ]
    },
    {
      "cell_type": "code",
      "metadata": {
        "colab": {
          "base_uri": "https://localhost:8080/"
        },
        "id": "8SjNIOMnR0fn",
        "outputId": "e91c6827-c4ed-47e3-b1e3-5c2884d047ae"
      },
      "source": [
        "y_predicted_new = [min(i,1-epsilon) for i in y_predicted_new]\n",
        "y_predicted_new"
      ],
      "execution_count": 27,
      "outputs": [
        {
          "output_type": "execute_result",
          "data": {
            "text/plain": [
              "[0.999999999999999, 0.999999999999999, 1e-15, 1e-15, 0.999999999999999]"
            ]
          },
          "metadata": {},
          "execution_count": 27
        }
      ]
    },
    {
      "cell_type": "code",
      "metadata": {
        "id": "yq3RPdvISEWH"
      },
      "source": [
        "def log_loss(y_true, y_predicted):\n",
        "    y_predicted_new = [max(i,epsilon) for i in y_predicted]\n",
        "    y_predicted_new = [min(i,1-epsilon) for i in y_predicted_new]\n",
        "    y_predicted_new = np.array(y_predicted_new)\n",
        "    return -np.mean(y_true*np.log(y_predicted_new)+(1-y_true)*np.log(1-y_predicted_new))"
      ],
      "execution_count": 29,
      "outputs": []
    },
    {
      "cell_type": "code",
      "metadata": {
        "colab": {
          "base_uri": "https://localhost:8080/"
        },
        "id": "bwnRfxceSdgx",
        "outputId": "258f2a84-0bbc-4a6a-cb50-ffc91d19a991"
      },
      "source": [
        "log_loss(y_true, y_predicted)\n"
      ],
      "execution_count": 30,
      "outputs": [
        {
          "output_type": "execute_result",
          "data": {
            "text/plain": [
              "17.2696280766844"
            ]
          },
          "metadata": {},
          "execution_count": 30
        }
      ]
    },
    {
      "cell_type": "markdown",
      "metadata": {
        "id": "pjyr_2UISkAj"
      },
      "source": [
        "# Mean Squared Error"
      ]
    },
    {
      "cell_type": "code",
      "metadata": {
        "id": "Cd1LGb2CSn3R"
      },
      "source": [
        "def mse(y_true, y_predicted):\n",
        "    total = 0\n",
        "    for yt, yp in zip(y_true, y_predicted):\n",
        "        total += (yt-yp) ** 2\n",
        "    mse = total / len(y_true)\n",
        "    print(\"Mean Squared Error : \", mse)"
      ],
      "execution_count": 34,
      "outputs": []
    },
    {
      "cell_type": "code",
      "metadata": {
        "colab": {
          "base_uri": "https://localhost:8080/"
        },
        "id": "Nof99hNcTTqW",
        "outputId": "8ffdb1ef-ca79-4d11-d1e5-f4a0b170098a"
      },
      "source": [
        "np.mean(np.square(y_true -y_predicted))"
      ],
      "execution_count": 36,
      "outputs": [
        {
          "output_type": "execute_result",
          "data": {
            "text/plain": [
              "0.366"
            ]
          },
          "metadata": {},
          "execution_count": 36
        }
      ]
    },
    {
      "cell_type": "code",
      "metadata": {
        "colab": {
          "base_uri": "https://localhost:8080/"
        },
        "id": "8nC9EY6dS0Ls",
        "outputId": "15c5412b-089e-467d-9c37-72a4627c6142"
      },
      "source": [
        "mse(y_true, y_predicted)"
      ],
      "execution_count": 35,
      "outputs": [
        {
          "output_type": "stream",
          "text": [
            "Mean Squared Error :  0.366\n"
          ],
          "name": "stdout"
        }
      ]
    }
  ]
}